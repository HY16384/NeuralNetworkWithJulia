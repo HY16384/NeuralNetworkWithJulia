{
 "cells": [
  {
   "cell_type": "code",
   "execution_count": 9,
   "metadata": {},
   "outputs": [
    {
     "data": {
      "text/plain": [
       "1-element Vector{Vector{Int64}}:\n",
       " [21, 21, 21]"
      ]
     },
     "metadata": {},
     "output_type": "display_data"
    }
   ],
   "source": [
    "using JLD2\n",
    "using Colors\n",
    "\n",
    "include(\"src/neuralnetwork.jl\")\n",
    "layers = load(\"layers.jld2\", layers)\n",
    "\n",
    "network = NeuralNet(layers,[784, 100, 20, 10])"
   ]
  },
  {
   "cell_type": "code",
   "execution_count": 17,
   "metadata": {},
   "outputs": [
    {
     "name": "stdout",
     "output_type": "stream",
     "text": [
      "1:5"
     ]
    }
   ],
   "source": [
    "train_data = CSV.read(\"data/mnist_train.csv\", header=0, DataFrame)\n",
    "test_data = CSV.read(\"data/mnist_test.csv\", header=0, DataFrame)\n",
    "x_train, y_train = train_data[!, 2:end], train_data[!, 1]\n",
    "x_test, y_test = test_data[!, 2:end], test_data[!, 1]\n",
    "\n",
    "x_train = Matrix(x_train)\n",
    "x_test = Matrix(x_test)\n",
    "\n",
    "x_train = Float32.(x_train ./ 255)\n",
    "x_test = Float32.(x_test ./ 255)"
   ]
  },
  {
   "cell_type": "code",
   "execution_count": null,
   "metadata": {},
   "outputs": [],
   "source": [
    "using Colors\n",
    "\n",
    "function img_show(img)\n",
    "    img_reshaped = transpose(reshape(img, 28, 28))\n",
    "    draw_img = Gray.(img_reshaped)\n",
    "end"
   ]
  },
  {
   "cell_type": "code",
   "execution_count": null,
   "metadata": {},
   "outputs": [],
   "source": [
    "img_show(x_train[5])"
   ]
  },
  {
   "cell_type": "code",
   "execution_count": null,
   "metadata": {},
   "outputs": [],
   "source": [
    "println(argmax(predict(network, x_train[5])))"
   ]
  }
 ],
 "metadata": {
  "kernelspec": {
   "display_name": "Julia 1.10.3",
   "language": "julia",
   "name": "julia-1.10"
  },
  "language_info": {
   "file_extension": ".jl",
   "mimetype": "application/julia",
   "name": "julia",
   "version": "1.10.3"
  }
 },
 "nbformat": 4,
 "nbformat_minor": 2
}
